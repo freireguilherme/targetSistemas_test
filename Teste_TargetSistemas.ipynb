{
  "nbformat": 4,
  "nbformat_minor": 0,
  "metadata": {
    "colab": {
      "provenance": []
    },
    "kernelspec": {
      "name": "python3",
      "display_name": "Python 3"
    },
    "language_info": {
      "name": "python"
    }
  },
  "cells": [
    {
      "cell_type": "markdown",
      "source": [
        "1) Soma\n"
      ],
      "metadata": {
        "id": "ltTMmGEyJTtm"
      }
    },
    {
      "cell_type": "code",
      "source": [
        "indice = 13\n",
        "soma = 0\n",
        "k = 0\n",
        "\n",
        "while k < indice:\n",
        "  k = k + 1\n",
        "  print(f\"k:\", k)\n",
        "  soma = soma + k\n",
        "  print(f\"soma:\", soma)\n",
        "\n",
        "print(soma)"
      ],
      "metadata": {
        "id": "sAMVnZ2iq-40"
      },
      "execution_count": null,
      "outputs": []
    },
    {
      "cell_type": "markdown",
      "source": [
        "2)Fibonacci;\n",
        "\n",
        "Sequencia que inicia por 0 e 1 e o próximo valor sempre será a soma dos 2 valores anteriores.\n",
        "\n",
        "A função retorna a sequencia de fibonacci ate o valor imformado, e informa se esse valor pertece à série."
      ],
      "metadata": {
        "id": "NYRYuEy2yRmq"
      }
    },
    {
      "cell_type": "code",
      "source": [
        "num = int(input(\"Que termo deseja encontrar: \"))\n",
        "def ehFibonacci(num):\n",
        "  # define os primeiros termos\n",
        "  primeiro = 0\n",
        "  segundo = 1\n",
        "  terceiro = 0\n",
        "\n",
        "  #começa a imprimir a sequencia\n",
        "  print(primeiro)\n",
        "  print(segundo)\n",
        "\n",
        "  # enquanto o terceiro valor for menor que o número informado\n",
        "  while terceiro < num:\n",
        "    terceiro = primeiro + segundo\n",
        "    primeiro = segundo\n",
        "    segundo = terceiro\n",
        "    print(terceiro)\n",
        "          \n",
        "  # verifica se pertence    \n",
        "  return terceiro == num\n",
        "\n",
        "#chamo a funcção passando o numero informado\n",
        "if(ehFibonacci(num)):\n",
        "  print(f\"O numero\", num, \"pertece a série de Fibonacci\")\n",
        "else:\n",
        "  print(f\"O numero\", num, \"não pertece à série de Fibonacci\")"
      ],
      "metadata": {
        "id": "jxz1msGfyQv0"
      },
      "execution_count": null,
      "outputs": []
    },
    {
      "cell_type": "markdown",
      "source": [
        "3)Faturamento\n",
        "\n",
        "Menor valor ocorrido em um dia do mês;\n",
        "\n",
        "Maior valor ocorrido em um dia do mês;\n",
        "\n",
        "Numero de dias no mês em que o valor diário > média mensal"
      ],
      "metadata": {
        "id": "0dUt4o5Z3Ebn"
      }
    },
    {
      "cell_type": "code",
      "source": [
        "#importo o arquivo disponibilizado\n",
        "from google.colab import files\n",
        "dados = files.upload()"
      ],
      "metadata": {
        "colab": {
          "base_uri": "https://localhost:8080/",
          "height": 73
        },
        "id": "WNV6mJQv3qga",
        "outputId": "23e5564c-6cef-439b-f61d-b135eb5d6823"
      },
      "execution_count": 20,
      "outputs": [
        {
          "output_type": "display_data",
          "data": {
            "text/plain": [
              "<IPython.core.display.HTML object>"
            ],
            "text/html": [
              "\n",
              "     <input type=\"file\" id=\"files-6dba5f08-7f1f-4742-8e8e-c4c0213bdc7e\" name=\"files[]\" multiple disabled\n",
              "        style=\"border:none\" />\n",
              "     <output id=\"result-6dba5f08-7f1f-4742-8e8e-c4c0213bdc7e\">\n",
              "      Upload widget is only available when the cell has been executed in the\n",
              "      current browser session. Please rerun this cell to enable.\n",
              "      </output>\n",
              "      <script>// Copyright 2017 Google LLC\n",
              "//\n",
              "// Licensed under the Apache License, Version 2.0 (the \"License\");\n",
              "// you may not use this file except in compliance with the License.\n",
              "// You may obtain a copy of the License at\n",
              "//\n",
              "//      http://www.apache.org/licenses/LICENSE-2.0\n",
              "//\n",
              "// Unless required by applicable law or agreed to in writing, software\n",
              "// distributed under the License is distributed on an \"AS IS\" BASIS,\n",
              "// WITHOUT WARRANTIES OR CONDITIONS OF ANY KIND, either express or implied.\n",
              "// See the License for the specific language governing permissions and\n",
              "// limitations under the License.\n",
              "\n",
              "/**\n",
              " * @fileoverview Helpers for google.colab Python module.\n",
              " */\n",
              "(function(scope) {\n",
              "function span(text, styleAttributes = {}) {\n",
              "  const element = document.createElement('span');\n",
              "  element.textContent = text;\n",
              "  for (const key of Object.keys(styleAttributes)) {\n",
              "    element.style[key] = styleAttributes[key];\n",
              "  }\n",
              "  return element;\n",
              "}\n",
              "\n",
              "// Max number of bytes which will be uploaded at a time.\n",
              "const MAX_PAYLOAD_SIZE = 100 * 1024;\n",
              "\n",
              "function _uploadFiles(inputId, outputId) {\n",
              "  const steps = uploadFilesStep(inputId, outputId);\n",
              "  const outputElement = document.getElementById(outputId);\n",
              "  // Cache steps on the outputElement to make it available for the next call\n",
              "  // to uploadFilesContinue from Python.\n",
              "  outputElement.steps = steps;\n",
              "\n",
              "  return _uploadFilesContinue(outputId);\n",
              "}\n",
              "\n",
              "// This is roughly an async generator (not supported in the browser yet),\n",
              "// where there are multiple asynchronous steps and the Python side is going\n",
              "// to poll for completion of each step.\n",
              "// This uses a Promise to block the python side on completion of each step,\n",
              "// then passes the result of the previous step as the input to the next step.\n",
              "function _uploadFilesContinue(outputId) {\n",
              "  const outputElement = document.getElementById(outputId);\n",
              "  const steps = outputElement.steps;\n",
              "\n",
              "  const next = steps.next(outputElement.lastPromiseValue);\n",
              "  return Promise.resolve(next.value.promise).then((value) => {\n",
              "    // Cache the last promise value to make it available to the next\n",
              "    // step of the generator.\n",
              "    outputElement.lastPromiseValue = value;\n",
              "    return next.value.response;\n",
              "  });\n",
              "}\n",
              "\n",
              "/**\n",
              " * Generator function which is called between each async step of the upload\n",
              " * process.\n",
              " * @param {string} inputId Element ID of the input file picker element.\n",
              " * @param {string} outputId Element ID of the output display.\n",
              " * @return {!Iterable<!Object>} Iterable of next steps.\n",
              " */\n",
              "function* uploadFilesStep(inputId, outputId) {\n",
              "  const inputElement = document.getElementById(inputId);\n",
              "  inputElement.disabled = false;\n",
              "\n",
              "  const outputElement = document.getElementById(outputId);\n",
              "  outputElement.innerHTML = '';\n",
              "\n",
              "  const pickedPromise = new Promise((resolve) => {\n",
              "    inputElement.addEventListener('change', (e) => {\n",
              "      resolve(e.target.files);\n",
              "    });\n",
              "  });\n",
              "\n",
              "  const cancel = document.createElement('button');\n",
              "  inputElement.parentElement.appendChild(cancel);\n",
              "  cancel.textContent = 'Cancel upload';\n",
              "  const cancelPromise = new Promise((resolve) => {\n",
              "    cancel.onclick = () => {\n",
              "      resolve(null);\n",
              "    };\n",
              "  });\n",
              "\n",
              "  // Wait for the user to pick the files.\n",
              "  const files = yield {\n",
              "    promise: Promise.race([pickedPromise, cancelPromise]),\n",
              "    response: {\n",
              "      action: 'starting',\n",
              "    }\n",
              "  };\n",
              "\n",
              "  cancel.remove();\n",
              "\n",
              "  // Disable the input element since further picks are not allowed.\n",
              "  inputElement.disabled = true;\n",
              "\n",
              "  if (!files) {\n",
              "    return {\n",
              "      response: {\n",
              "        action: 'complete',\n",
              "      }\n",
              "    };\n",
              "  }\n",
              "\n",
              "  for (const file of files) {\n",
              "    const li = document.createElement('li');\n",
              "    li.append(span(file.name, {fontWeight: 'bold'}));\n",
              "    li.append(span(\n",
              "        `(${file.type || 'n/a'}) - ${file.size} bytes, ` +\n",
              "        `last modified: ${\n",
              "            file.lastModifiedDate ? file.lastModifiedDate.toLocaleDateString() :\n",
              "                                    'n/a'} - `));\n",
              "    const percent = span('0% done');\n",
              "    li.appendChild(percent);\n",
              "\n",
              "    outputElement.appendChild(li);\n",
              "\n",
              "    const fileDataPromise = new Promise((resolve) => {\n",
              "      const reader = new FileReader();\n",
              "      reader.onload = (e) => {\n",
              "        resolve(e.target.result);\n",
              "      };\n",
              "      reader.readAsArrayBuffer(file);\n",
              "    });\n",
              "    // Wait for the data to be ready.\n",
              "    let fileData = yield {\n",
              "      promise: fileDataPromise,\n",
              "      response: {\n",
              "        action: 'continue',\n",
              "      }\n",
              "    };\n",
              "\n",
              "    // Use a chunked sending to avoid message size limits. See b/62115660.\n",
              "    let position = 0;\n",
              "    do {\n",
              "      const length = Math.min(fileData.byteLength - position, MAX_PAYLOAD_SIZE);\n",
              "      const chunk = new Uint8Array(fileData, position, length);\n",
              "      position += length;\n",
              "\n",
              "      const base64 = btoa(String.fromCharCode.apply(null, chunk));\n",
              "      yield {\n",
              "        response: {\n",
              "          action: 'append',\n",
              "          file: file.name,\n",
              "          data: base64,\n",
              "        },\n",
              "      };\n",
              "\n",
              "      let percentDone = fileData.byteLength === 0 ?\n",
              "          100 :\n",
              "          Math.round((position / fileData.byteLength) * 100);\n",
              "      percent.textContent = `${percentDone}% done`;\n",
              "\n",
              "    } while (position < fileData.byteLength);\n",
              "  }\n",
              "\n",
              "  // All done.\n",
              "  yield {\n",
              "    response: {\n",
              "      action: 'complete',\n",
              "    }\n",
              "  };\n",
              "}\n",
              "\n",
              "scope.google = scope.google || {};\n",
              "scope.google.colab = scope.google.colab || {};\n",
              "scope.google.colab._files = {\n",
              "  _uploadFiles,\n",
              "  _uploadFilesContinue,\n",
              "};\n",
              "})(self);\n",
              "</script> "
            ]
          },
          "metadata": {}
        },
        {
          "output_type": "stream",
          "name": "stdout",
          "text": [
            "Saving dados.json to dados.json\n"
          ]
        }
      ]
    },
    {
      "cell_type": "code",
      "source": [
        "import json\n",
        "#abro o arquivo\n",
        "with open(\"dados.json\", encoding='utf-8') as meus_dados:\n",
        "  dados = json.load(meus_dados)\n",
        "#definicao variáveis\n",
        "maior  = 0\n",
        "menor  = 0\n",
        "count  = 0\n",
        "dias   = 0\n",
        "sum    = 0\n",
        "#encontro o maior numero  \n",
        "for i in dados:\n",
        "  if(i[\"valor\"] > maior ):\n",
        "    maior = i[\"valor\"]\n",
        "    dia_maior = i[\"dia\"]\n",
        "#defini o menor valor como sendo o maior, entao todos os outros valores serão testados ate encontrar o menor de todos\n",
        "    menor = maior\n",
        "\n",
        "for i  in dados:\n",
        "  #verifico quantos dias tem faturamento diferente de 0\n",
        "  if(i[\"valor\"] != 0):\n",
        "    dias = dias + 1\n",
        "  #somo todos os faturamentos\n",
        "  sum = sum + i[\"valor\"]\n",
        "  #a media será a soma dividido pelos dias q teve faturamento\n",
        "  media = sum / dias\n",
        "  #encontro o menor faturamento e que seja diferente de 0\n",
        "  if(i[\"valor\"] < menor and i[\"valor\"] != 0):\n",
        "    menor = i[\"valor\"]\n",
        "    dia_menor = i[\"dia\"]\n",
        "\n",
        "for i in dados:\n",
        "  if(i[\"valor\"] > media):\n",
        "     count = count + 1\n",
        "\n",
        "print(f\"O dia\", dia_maior, \"foi o que teve maior faturamento, de:\", maior)\n",
        "print(f\"O dia\", dia_menor, \"foi o que teve menor faturamento, de:\", menor)\n",
        "print(f\"O numero de dias em que o faturamento foi maior que a média mensal foram:\", count, \". Sendo a media mensal de:\", media)\n",
        "\n",
        "#foram 3 laços de for na mesma variavel, provavelmente existe uma forma mais economica de realizar essas operações"
      ],
      "metadata": {
        "id": "MHlm1Apa5clC"
      },
      "execution_count": null,
      "outputs": []
    },
    {
      "cell_type": "markdown",
      "source": [
        "4) Porcentual de representação de cada estado no total"
      ],
      "metadata": {
        "id": "dJOyFBeHBRW3"
      }
    },
    {
      "cell_type": "code",
      "source": [
        "#transformei os dados em um dicionario\n",
        "faturamento = [\n",
        "    {\n",
        "    \"estado\":\"SP\",\n",
        "    \"valor\": 67836.43\n",
        "  },\n",
        "  {\n",
        "    \"estado\":\"RJ\",\n",
        "    \"valor\": 36678.66\n",
        "  },\n",
        "  {\n",
        "    \"estado\":\"MG\",\n",
        "    \"valor\": 29229.88\n",
        "  },\n",
        "  {\n",
        "    \"estado\":\"ES\",\n",
        "    \"valor\": 27165.48\n",
        "  },\n",
        "  {\n",
        "    \"estado\":\"Outros\",\n",
        "    \"valor\": 19849.53\n",
        "  }\n",
        "]\n",
        "\n",
        "#calculei o total\n",
        "total = 0\n",
        "for i in faturamento:\n",
        "  total = total + i[\"valor\"]\n",
        "\n",
        "#fui gerando e imprimindo em formato de dicionario as porcentagens\n",
        "for i in faturamento:\n",
        "  percentual = [\n",
        "      {\n",
        "      \"estado\": i[\"estado\"],\n",
        "      \"pecentual\" : \"{:.2f}\".format(i[\"valor\"]/total * 100)\n",
        "    }\n",
        "  ]\n",
        "  print (percentual) #dentro do loop for\n"
      ],
      "metadata": {
        "id": "7ef-6qQbBXDa"
      },
      "execution_count": null,
      "outputs": []
    },
    {
      "cell_type": "markdown",
      "source": [
        "5) programa que inverte caracteres de uma string"
      ],
      "metadata": {
        "id": "HE7hx-F0Gmot"
      }
    },
    {
      "cell_type": "code",
      "source": [
        "string = (input(\"Que termo deseja encontrar: \"))\n",
        "\n",
        "def inverterString(nome):\n",
        "    novaString = \"\"\n",
        "    tamanho = len(nome)\n",
        "    for i in range(tamanho-1, -1, -1):\n",
        "        novaString += nome[i];\n",
        "        \n",
        "    return novaString\n",
        "\n",
        "print(inverterString(string))"
      ],
      "metadata": {
        "id": "vJu3aJ8HGtvI"
      },
      "execution_count": null,
      "outputs": []
    }
  ]
}